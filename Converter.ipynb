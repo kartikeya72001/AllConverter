{
 "metadata": {
  "language_info": {
   "codemirror_mode": {
    "name": "ipython",
    "version": 3
   },
   "file_extension": ".py",
   "mimetype": "text/x-python",
   "name": "python",
   "nbconvert_exporter": "python",
   "pygments_lexer": "ipython3",
   "version": "3.7.5-final"
  },
  "orig_nbformat": 2,
  "kernelspec": {
   "name": "python3",
   "display_name": "Python 3.7.5 64-bit",
   "metadata": {
    "interpreter": {
     "hash": "60eb1d0f96393a1e0420bb6ca0f5435a81d9c3ff4319ce3c90a222065ab89d85"
    }
   }
  }
 },
 "nbformat": 4,
 "nbformat_minor": 2,
 "cells": [
  {
   "cell_type": "code",
   "execution_count": 1,
   "metadata": {},
   "outputs": [],
   "source": [
    "import pandas as pd\n",
    "import numpy as np"
   ]
  },
  {
   "cell_type": "code",
   "execution_count": 2,
   "metadata": {},
   "outputs": [],
   "source": [
    "df = pd.read_excel(\"Sample.xlsx\")"
   ]
  },
  {
   "cell_type": "code",
   "execution_count": 3,
   "metadata": {},
   "outputs": [
    {
     "output_type": "execute_result",
     "data": {
      "text/plain": [
       "                Name  Phone Number        Email\n",
       "0  Kartikeya Agarwal  1.234568e+09  abc@xyz.com\n",
       "1           Shreyans  9.876543e+08  abc@xyz.com\n",
       "2             Nikhil  1.357925e+09  abc@xyz.com\n",
       "3             Ineesh  2.468014e+09  abc@xyz.com\n",
       "4             Tismet           NaN  abc@xyz.com"
      ],
      "text/html": "<div>\n<style scoped>\n    .dataframe tbody tr th:only-of-type {\n        vertical-align: middle;\n    }\n\n    .dataframe tbody tr th {\n        vertical-align: top;\n    }\n\n    .dataframe thead th {\n        text-align: right;\n    }\n</style>\n<table border=\"1\" class=\"dataframe\">\n  <thead>\n    <tr style=\"text-align: right;\">\n      <th></th>\n      <th>Name</th>\n      <th>Phone Number</th>\n      <th>Email</th>\n    </tr>\n  </thead>\n  <tbody>\n    <tr>\n      <th>0</th>\n      <td>Kartikeya Agarwal</td>\n      <td>1.234568e+09</td>\n      <td>abc@xyz.com</td>\n    </tr>\n    <tr>\n      <th>1</th>\n      <td>Shreyans</td>\n      <td>9.876543e+08</td>\n      <td>abc@xyz.com</td>\n    </tr>\n    <tr>\n      <th>2</th>\n      <td>Nikhil</td>\n      <td>1.357925e+09</td>\n      <td>abc@xyz.com</td>\n    </tr>\n    <tr>\n      <th>3</th>\n      <td>Ineesh</td>\n      <td>2.468014e+09</td>\n      <td>abc@xyz.com</td>\n    </tr>\n    <tr>\n      <th>4</th>\n      <td>Tismet</td>\n      <td>NaN</td>\n      <td>abc@xyz.com</td>\n    </tr>\n  </tbody>\n</table>\n</div>"
     },
     "metadata": {},
     "execution_count": 3
    }
   ],
   "source": [
    "df.head()"
   ]
  },
  {
   "cell_type": "code",
   "execution_count": 5,
   "metadata": {},
   "outputs": [],
   "source": [
    "df = df.fillna(\" \")"
   ]
  },
  {
   "cell_type": "code",
   "execution_count": 11,
   "metadata": {},
   "outputs": [
    {
     "output_type": "stream",
     "name": "stdout",
     "text": [
      "BEGIN:VCARD\nVERSION:3.0\nFN:Kartikeya Agarwal\nTEL;TYPE=VOICE,CELL;VALUE=text:1234567890\nEMAIL;TYPE=HOME,INTERNET,pref:abc@xyz.com\nEND:VCARD\n\nBEGIN:VCARD\nVERSION:3.0\nFN:Shreyans\nTEL;TYPE=VOICE,CELL;VALUE=text:987654321\nEMAIL;TYPE=HOME,INTERNET,pref:abc@xyz.com\nEND:VCARD\n\nBEGIN:VCARD\nVERSION:3.0\nFN:Nikhil\nTEL;TYPE=VOICE,CELL;VALUE=text:1357924680\nEMAIL;TYPE=HOME,INTERNET,pref:abc@xyz.com\nEND:VCARD\n\nBEGIN:VCARD\nVERSION:3.0\nFN:Ineesh\nTEL;TYPE=VOICE,CELL;VALUE=text:2468013579\nEMAIL;TYPE=HOME,INTERNET,pref:abc@xyz.com\nEND:VCARD\n\n"
     ]
    },
    {
     "output_type": "error",
     "ename": "ValueError",
     "evalue": "invalid literal for int() with base 10: ' '",
     "traceback": [
      "\u001b[1;31m---------------------------------------------------------------------------\u001b[0m",
      "\u001b[1;31mValueError\u001b[0m                                Traceback (most recent call last)",
      "\u001b[1;32m<ipython-input-11-e5cd11741ec8>\u001b[0m in \u001b[0;36m<module>\u001b[1;34m\u001b[0m\n\u001b[0;32m      8\u001b[0m     \u001b[0mtext\u001b[0m \u001b[1;33m=\u001b[0m \u001b[1;34m\"\"\u001b[0m\u001b[1;33m\u001b[0m\u001b[1;33m\u001b[0m\u001b[0m\n\u001b[0;32m      9\u001b[0m     \u001b[0mFN\u001b[0m \u001b[1;33m+=\u001b[0m \u001b[1;33m(\u001b[0m\u001b[0mdf\u001b[0m\u001b[1;33m[\u001b[0m\u001b[1;34m\"Name\"\u001b[0m\u001b[1;33m]\u001b[0m\u001b[1;33m[\u001b[0m\u001b[0mi\u001b[0m\u001b[1;33m]\u001b[0m\u001b[1;33m+\u001b[0m\u001b[1;34m\"\\n\"\u001b[0m\u001b[1;33m)\u001b[0m\u001b[1;33m\u001b[0m\u001b[1;33m\u001b[0m\u001b[0m\n\u001b[1;32m---> 10\u001b[1;33m     \u001b[0mTEL\u001b[0m \u001b[1;33m+=\u001b[0m \u001b[1;33m(\u001b[0m\u001b[0mstr\u001b[0m\u001b[1;33m(\u001b[0m\u001b[0mint\u001b[0m\u001b[1;33m(\u001b[0m\u001b[0mdf\u001b[0m\u001b[1;33m[\u001b[0m\u001b[1;34m\"Phone Number\"\u001b[0m\u001b[1;33m]\u001b[0m\u001b[1;33m[\u001b[0m\u001b[0mi\u001b[0m\u001b[1;33m]\u001b[0m\u001b[1;33m)\u001b[0m\u001b[1;33m)\u001b[0m\u001b[1;33m+\u001b[0m\u001b[1;34m\"\\n\"\u001b[0m\u001b[1;33m)\u001b[0m\u001b[1;33m\u001b[0m\u001b[1;33m\u001b[0m\u001b[0m\n\u001b[0m\u001b[0;32m     11\u001b[0m     \u001b[0mEMAIL\u001b[0m \u001b[1;33m+=\u001b[0m \u001b[1;33m(\u001b[0m\u001b[0mdf\u001b[0m\u001b[1;33m[\u001b[0m\u001b[1;34m\"Email\"\u001b[0m\u001b[1;33m]\u001b[0m\u001b[1;33m[\u001b[0m\u001b[0mi\u001b[0m\u001b[1;33m]\u001b[0m\u001b[1;33m+\u001b[0m\u001b[1;34m\"\\n\"\u001b[0m\u001b[1;33m)\u001b[0m\u001b[1;33m\u001b[0m\u001b[1;33m\u001b[0m\u001b[0m\n\u001b[0;32m     12\u001b[0m \u001b[1;33m\u001b[0m\u001b[0m\n",
      "\u001b[1;31mValueError\u001b[0m: invalid literal for int() with base 10: ' '"
     ]
    }
   ],
   "source": [
    "for i in df.index:\n",
    "    START = \"BEGIN:VCARD\\n\"\n",
    "    VERSION = \"VERSION:3.0\\n\"\n",
    "    FN = \"FN:\"\n",
    "    TEL = \"TEL;TYPE=VOICE,CELL;VALUE=text:\"\n",
    "    EMAIL = \"EMAIL;TYPE=HOME,INTERNET,pref:\"\n",
    "    END = \"END:VCARD\\n\"\n",
    "    text = \"\"\n",
    "    FN += (df[\"Name\"][i]+\"\\n\")\n",
    "    TEL += (str(int(df[\"Phone Number\"][i]))+\"\\n\")\n",
    "    EMAIL += (df[\"Email\"][i]+\"\\n\")\n",
    "    \n",
    "    text = START+VERSION+FN+TEL+EMAIL+END\n",
    "    print(text)"
   ]
  },
  {
   "cell_type": "code",
   "execution_count": null,
   "metadata": {},
   "outputs": [],
   "source": []
  }
 ]
}