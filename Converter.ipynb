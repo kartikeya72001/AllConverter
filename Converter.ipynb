{
 "cells": [
  {
   "cell_type": "code",
   "execution_count": 11,
   "metadata": {},
   "outputs": [],
   "source": [
    "import pandas as pd\n",
    "import numpy as np"
   ]
  },
  {
   "cell_type": "code",
   "execution_count": 14,
   "metadata": {},
   "outputs": [],
   "source": [
    "def excelToVcard():\n",
    "    df = pd.read_excel(\"Sample.xlsx\")\n",
    "    df = df.fillna(\" \")\n",
    "    with open(\"contact.vcf\",\"a\") as f:\n",
    "        for i in df.index:\n",
    "            START = \"BEGIN:VCARD\\n\"\n",
    "            VERSION = \"VERSION:3.0\\n\"\n",
    "            FN = \"FN:\"\n",
    "            TEL = \"TEL;TYPE=VOICE,CELL;VALUE=text:\"\n",
    "            EMAIL = \"EMAIL;TYPE=HOME,INTERNET,pref:\"\n",
    "            END = \"END:VCARD\\n\"\n",
    "            text = \"\"\n",
    "            FN += (df[\"Name\"][i]+\"\\n\")\n",
    "            phone = df[\"Phone Number\"][i]\n",
    "            if(type(phone)==str):\n",
    "                TEL+=\"\\n\"\n",
    "            else:\n",
    "                TEL += (str(int(phone))+\"\\n\")\n",
    "            EMAIL += (df[\"Email\"][i]+\"\\n\")\n",
    "\n",
    "            text = START+VERSION+FN+TEL+EMAIL+END\n",
    "            f.write(text)"
   ]
  },
  {
   "cell_type": "code",
   "execution_count": null,
   "metadata": {},
   "outputs": [],
   "source": []
  }
 ],
 "metadata": {
  "kernelspec": {
   "display_name": "Python 3",
   "language": "python",
   "name": "python3"
  },
  "language_info": {
   "codemirror_mode": {
    "name": "ipython",
    "version": 3
   },
   "file_extension": ".py",
   "mimetype": "text/x-python",
   "name": "python",
   "nbconvert_exporter": "python",
   "pygments_lexer": "ipython3",
   "version": "3.7.3"
  }
 },
 "nbformat": 4,
 "nbformat_minor": 2
}
