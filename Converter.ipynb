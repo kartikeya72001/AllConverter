{
 "cells": [
  {
   "cell_type": "code",
   "execution_count": 9,
   "metadata": {},
   "outputs": [],
   "source": [
    "import pandas as pd\n",
    "import numpy as np\n",
    "import tkinter as tk\n",
    "from tkinter import filedialog\n",
    "from PIL import Image"
   ]
  },
  {
   "cell_type": "code",
   "execution_count": 2,
   "metadata": {},
   "outputs": [],
   "source": [
    "def excelToVcard():\n",
    "    root = tk.Tk()\n",
    "    root.withdraw()\n",
    "    file_path = filedialog.askopenfilename()\n",
    "\n",
    "    df = pd.read_excel(file_path)\n",
    "    df = df.fillna(\" \")\n",
    "    with open(\"contact.vcf\",\"a\") as f:\n",
    "        for i in df.index:\n",
    "            START = \"BEGIN:VCARD\\n\"\n",
    "            VERSION = \"VERSION:3.0\\n\"\n",
    "            FN = \"FN:\"\n",
    "            TEL = \"TEL;TYPE=VOICE,CELL;VALUE=text:\"\n",
    "            EMAIL = \"EMAIL;TYPE=HOME,INTERNET,pref:\"\n",
    "            END = \"END:VCARD\\n\"\n",
    "            text = \"\"\n",
    "            FN += (df[\"Name\"][i]+\"\\n\")\n",
    "            phone = df[\"Phone Number\"][i]\n",
    "            if(type(phone)==str):\n",
    "                TEL+=\"\\n\"\n",
    "            else:\n",
    "                TEL += (str(int(phone))+\"\\n\")\n",
    "            EMAIL += (df[\"Email\"][i]+\"\\n\")\n",
    "\n",
    "            text = START+VERSION+FN+TEL+EMAIL+END\n",
    "            f.write(text)"
   ]
  },
  {
   "cell_type": "code",
   "execution_count": 3,
   "metadata": {},
   "outputs": [],
   "source": [
    "def csvToVcard():\n",
    "    root = tk.Tk()\n",
    "    root.withdraw()\n",
    "    file_path = filedialog.askopenfilename()\n",
    "\n",
    "    df = pd.read_csv(file_path)\n",
    "    df = df.fillna(\" \")\n",
    "    with open(\"contact.vcf\",\"a\") as f:\n",
    "        for i in df.index:\n",
    "            START = \"BEGIN:VCARD\\n\"\n",
    "            VERSION = \"VERSION:3.0\\n\"\n",
    "            FN = \"FN:\"\n",
    "            TEL = \"TEL;TYPE=VOICE,CELL;VALUE=text:\"\n",
    "            EMAIL = \"EMAIL;TYPE=HOME,INTERNET,pref:\"\n",
    "            END = \"END:VCARD\\n\"\n",
    "            text = \"\"\n",
    "            FN += (df[\"Name\"][i]+\"\\n\")\n",
    "            phone = df[\"Phone Number\"][i]\n",
    "            if(type(phone)==str):\n",
    "                TEL+=\"\\n\"\n",
    "            else:\n",
    "                TEL += (str(int(phone))+\"\\n\")\n",
    "            EMAIL += (df[\"Email\"][i]+\"\\n\")\n",
    "\n",
    "            text = START+VERSION+FN+TEL+EMAIL+END\n",
    "            f.write(text)"
   ]
  },
  {
   "cell_type": "code",
   "execution_count": 12,
   "metadata": {},
   "outputs": [],
   "source": [
    "def jpegToPng():\n",
    "    root = tk.Tk()\n",
    "    root.withdraw()\n",
    "    file_path = filedialog.askopenfilename()\n",
    "    image = Image.open(file_path)\n",
    "    image.save(\"Image.png\")"
   ]
  },
  {
   "cell_type": "code",
   "execution_count": null,
   "metadata": {},
   "outputs": [],
   "source": []
  }
 ],
 "metadata": {
  "kernelspec": {
   "name": "python3",
   "display_name": "Python 3.7.5 64-bit",
   "metadata": {
    "interpreter": {
     "hash": "60eb1d0f96393a1e0420bb6ca0f5435a81d9c3ff4319ce3c90a222065ab89d85"
    }
   }
  },
  "language_info": {
   "codemirror_mode": {
    "name": "ipython",
    "version": 3
   },
   "file_extension": ".py",
   "mimetype": "text/x-python",
   "name": "python",
   "nbconvert_exporter": "python",
   "pygments_lexer": "ipython3",
   "version": "3.7.5-final"
  }
 },
 "nbformat": 4,
 "nbformat_minor": 2
}